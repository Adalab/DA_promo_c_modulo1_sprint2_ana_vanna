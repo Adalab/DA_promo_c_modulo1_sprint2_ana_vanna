{
 "cells": [
  {
   "cell_type": "markdown",
   "metadata": {},
   "source": [
    "#### Ejercicio 1.\n",
    "\n",
    "Vamos a crear una **\"Calculadora de puntos\"**. \n",
    "\n",
    "Tenéis que escribir una calculadora que reciba cadenas de caracteres como entrada. Los puntos representarán el número de la ecuación. \n",
    "Habrá puntos en un lado, un operador, y puntos de nuevo después del oparador. Los puntos y el operador estarán separados por un espacio.\n",
    "Aquí os dejamos los operadores válidos:\n",
    "\n",
    "- Suma\n",
    "- Resta\n",
    "- Multiplicación\n",
    "- División entera\n",
    "\n",
    "Vuestro trabajo:\n",
    "Tendréis que devolver un string que contenga puntos, tantos como devuelva la ecuación. \n",
    "Si el resultado es 0, devuelve la cadena vacía. \n",
    "\n",
    "Cuando se trata de una resta, el primer número siempre será mayor o igual que el segundo."
   ]
  },
  {
   "cell_type": "markdown",
   "metadata": {},
   "source": [
    "Probad la función con los siguientes casos: \n",
    "\n",
    "\"..... + ...............\" => \"....................\"\n",
    "\n",
    "\"..... - ...\" => \"..\"\n",
    "\n",
    "\"..... * ...\" => \"...............\"\n",
    "\n",
    "\"..... // ..\" => \"..\"\n",
    "\n",
    "\". // ..\" => \"\"\n",
    "\n",
    "\".. - ..\" => \"\""
   ]
  },
  {
   "cell_type": "code",
   "execution_count": 39,
   "metadata": {},
   "outputs": [],
   "source": [
    "def calculadora(num1,operador,num2):\n",
    "    \n",
    "    num1_lista = []\n",
    "    num2_lista = []\n",
    "    \n",
    "    for i in num1:\n",
    "        num1_lista.append(i)\n",
    "    for i in num2:\n",
    "        num2_lista.append(i)\n",
    "    \n",
    "    if operador == \"+\":\n",
    "        return num1_lista + num2_lista\n",
    "    elif operador == \"-\":\n",
    "        if len(num1_lista) >= len(num2_lista):\n",
    "            for i in num2_lista:\n",
    "                num1_lista.remove(i)\n",
    "            return num1_lista\n",
    "        else:\n",
    "            pass\n",
    "    elif operador == \"*\":\n",
    "        x = int(len(num1_lista))\n",
    "        y = int(len(num2_lista))\n",
    "        z = x * y\n",
    "        num3_lista = []\n",
    "        for i in range(0,z):\n",
    "            num3_lista.append(\".\")\n",
    "        return num3_lista\n",
    "    elif operador == \"/\":\n",
    "        x = int(len(num1_lista))\n",
    "        y = int(len(num2_lista))\n",
    "        h = x//y\n",
    "        num4_lista = []\n",
    "        for i in range(0,h):\n",
    "            num4_lista.append(\".\")\n",
    "        return num4_lista\n",
    "    \n",
    "    \n",
    "    \n",
    "#.count y if elif                                 \n"
   ]
  },
  {
   "cell_type": "code",
   "execution_count": 40,
   "metadata": {},
   "outputs": [
    {
     "data": {
      "text/plain": [
       "['.']"
      ]
     },
     "execution_count": 40,
     "metadata": {},
     "output_type": "execute_result"
    }
   ],
   "source": [
    "prueba1 = calculadora(\"..\",\"/\",\"..\")\n",
    "prueba1\n"
   ]
  },
  {
   "cell_type": "markdown",
   "metadata": {},
   "source": [
    "#### Ejercicio 2.\n",
    "Te despides de tu mejor amigo, `\"Nos vemos el próximo año\"`.\n",
    "\n",
    "Vuestro trabajo: Dado un año, encuentra el próximo cumpleaños o el año más cercano en el que verás a tu mejor amigo.\n",
    "Condiciones \n",
    " - Año siempre positivo.\n",
    " - El siguiente año que le felicites a tu mejor amigo no puede tener ningún dígito repetido."
   ]
  },
  {
   "cell_type": "markdown",
   "metadata": {},
   "source": [
    "Probad la función con los siguientes casos:\n",
    "\n",
    "7712 ==> El siguiente año que felicitarás a tu amigo será el 7801. \n",
    "Por que es el siguiente año en el que no hay ninguún dígito repetido. \n",
    "\n",
    "\n",
    "1001 => 1023 \n",
    "\n",
    "1123 => 1203\n",
    "\n",
    "2001 => 2013"
   ]
  },
  {
   "cell_type": "code",
   "execution_count": 41,
   "metadata": {},
   "outputs": [],
   "source": [
    "def felicidar_cumple(año):\n",
    "        año +=1\n",
    "        \n",
    "        while len(set(str(año))) != 4:\n",
    "            año += 1\n",
    "        return f\"El siguiente año que felicitarás a tu amigo será el {año}.\"   "
   ]
  },
  {
   "cell_type": "code",
   "execution_count": 42,
   "metadata": {},
   "outputs": [
    {
     "data": {
      "text/plain": [
       "'El siguiente año que felicitarás a tu amigo será el 7801.'"
      ]
     },
     "execution_count": 42,
     "metadata": {},
     "output_type": "execute_result"
    }
   ],
   "source": [
    "felicidar_cumple(7712)"
   ]
  },
  {
   "cell_type": "code",
   "execution_count": 43,
   "metadata": {},
   "outputs": [
    {
     "data": {
      "text/plain": [
       "'El siguiente año que felicitarás a tu amigo será el 1023.'"
      ]
     },
     "execution_count": 43,
     "metadata": {},
     "output_type": "execute_result"
    }
   ],
   "source": [
    "felicidar_cumple(1001)"
   ]
  },
  {
   "cell_type": "code",
   "execution_count": 44,
   "metadata": {},
   "outputs": [
    {
     "data": {
      "text/plain": [
       "'El siguiente año que felicitarás a tu amigo será el 1203.'"
      ]
     },
     "execution_count": 44,
     "metadata": {},
     "output_type": "execute_result"
    }
   ],
   "source": [
    "felicidar_cumple(1123)"
   ]
  },
  {
   "cell_type": "code",
   "execution_count": 45,
   "metadata": {},
   "outputs": [
    {
     "data": {
      "text/plain": [
       "'El siguiente año que felicitarás a tu amigo será el 2013.'"
      ]
     },
     "execution_count": 45,
     "metadata": {},
     "output_type": "execute_result"
    }
   ],
   "source": [
    "felicidar_cumple(2001)"
   ]
  },
  {
   "cell_type": "markdown",
   "metadata": {},
   "source": [
    "#### Ejercicio 3.\n",
    "\n",
    "Tenéis que crear un función que chequee la vida de un evaporador que contiene un gas.\n",
    "\n",
    "Conocemos:\n",
    "- el contenido del evaporador (contenido en ml)\n",
    "- el porcentaje de gas que se pierde cada día \n",
    "- el umbral en porcentaje a partir del cual el evaporador deja de ser útil. \n",
    "\n",
    "**Todos los números serán estrictamente positivos.**\n",
    "\n",
    "**` Nota`**: el contenido no es, de hecho, necesario en el cuerpo de la función, podéis utilizarlo o no."
   ]
  },
  {
   "cell_type": "markdown",
   "metadata": {},
   "source": [
    "Probad con los siguientes casos: \n",
    "\n",
    "10, 10, 5 => 29\n",
    "\n",
    "10, 10, 10 = > 22"
   ]
  },
  {
   "cell_type": "code",
   "execution_count": 54,
   "metadata": {},
   "outputs": [],
   "source": [
    "#umbral = contenido * umbral / 100"
   ]
  },
  {
   "cell_type": "code",
   "execution_count": 78,
   "metadata": {},
   "outputs": [],
   "source": [
    "\n",
    "\n",
    "def vida_util (capacidad, umbral, perdida):\n",
    "\n",
    " \n",
    "\n",
    "    while capacidad >= umbral:\n",
    "        capacidad -= capacidad * perdida/100\n",
    "        dias +=1  \n",
    "    return dias\n"
   ]
  },
  {
   "cell_type": "code",
   "execution_count": 79,
   "metadata": {},
   "outputs": [
    {
     "ename": "UnboundLocalError",
     "evalue": "local variable 'dia' referenced before assignment",
     "output_type": "error",
     "traceback": [
      "\u001b[0;31m---------------------------------------------------------------------------\u001b[0m",
      "\u001b[0;31mUnboundLocalError\u001b[0m                         Traceback (most recent call last)",
      "\u001b[0;32m/var/folders/66/3gn2x5sj3tlfxjp4wp1zg9n00000gn/T/ipykernel_22955/460374539.py\u001b[0m in \u001b[0;36m<module>\u001b[0;34m\u001b[0m\n\u001b[0;32m----> 1\u001b[0;31m \u001b[0mvida_util\u001b[0m\u001b[0;34m(\u001b[0m\u001b[0;36m10\u001b[0m\u001b[0;34m,\u001b[0m\u001b[0;36m10\u001b[0m\u001b[0;34m,\u001b[0m\u001b[0;36m10\u001b[0m\u001b[0;34m)\u001b[0m\u001b[0;34m\u001b[0m\u001b[0;34m\u001b[0m\u001b[0m\n\u001b[0m",
      "\u001b[0;32m/var/folders/66/3gn2x5sj3tlfxjp4wp1zg9n00000gn/T/ipykernel_22955/2550128584.py\u001b[0m in \u001b[0;36mvida_util\u001b[0;34m(capacidad, umbral, perdida)\u001b[0m\n\u001b[1;32m      5\u001b[0m     \u001b[0;32mwhile\u001b[0m \u001b[0mcapacidad\u001b[0m \u001b[0;34m>=\u001b[0m \u001b[0mumbral\u001b[0m\u001b[0;34m:\u001b[0m\u001b[0;34m\u001b[0m\u001b[0;34m\u001b[0m\u001b[0m\n\u001b[1;32m      6\u001b[0m         \u001b[0mcapacidad\u001b[0m \u001b[0;34m-=\u001b[0m \u001b[0mcapacidad\u001b[0m \u001b[0;34m*\u001b[0m \u001b[0mperdida\u001b[0m\u001b[0;34m/\u001b[0m\u001b[0;36m100\u001b[0m\u001b[0;34m\u001b[0m\u001b[0;34m\u001b[0m\u001b[0m\n\u001b[0;32m----> 7\u001b[0;31m         \u001b[0mdia\u001b[0m \u001b[0;34m+=\u001b[0m\u001b[0;36m1\u001b[0m\u001b[0;34m\u001b[0m\u001b[0;34m\u001b[0m\u001b[0m\n\u001b[0m\u001b[1;32m      8\u001b[0m     \u001b[0;32mreturn\u001b[0m \u001b[0mdia\u001b[0m\u001b[0;34m\u001b[0m\u001b[0;34m\u001b[0m\u001b[0m\n",
      "\u001b[0;31mUnboundLocalError\u001b[0m: local variable 'dia' referenced before assignment"
     ]
    }
   ],
   "source": [
    "vida_util(10,10,10)"
   ]
  },
  {
   "cell_type": "markdown",
   "metadata": {},
   "source": [
    "#### Ejercicio 4.\n",
    "\n",
    "Definid una función que tome como argumento un entero y devuelva `True` o `False` dependiendo de si el número es primo o no.\n",
    "\n",
    "Según la Wikipedia, un número primo es un número natural mayor que 1 que no tiene divisores positivos más que 1 y él mismo."
   ]
  },
  {
   "cell_type": "markdown",
   "metadata": {},
   "source": [
    "Probad la función con los siguientes números: \n",
    "\n",
    "0 => False\n",
    "2 => True\n",
    "73 => True\n",
    "-1 => False\n",
    "5099 => True"
   ]
  },
  {
   "cell_type": "code",
   "execution_count": 82,
   "metadata": {},
   "outputs": [],
   "source": [
    "def primos(num):\n",
    "    while num > 0:\n",
    "        if num / num == 1:\n",
    "            return \"True\"    \n",
    "    return \"false\""
   ]
  },
  {
   "cell_type": "code",
   "execution_count": 83,
   "metadata": {},
   "outputs": [
    {
     "data": {
      "text/plain": [
       "'True'"
      ]
     },
     "execution_count": 83,
     "metadata": {},
     "output_type": "execute_result"
    }
   ],
   "source": [
    "primos(73)"
   ]
  },
  {
   "cell_type": "markdown",
   "metadata": {},
   "source": [
    "#### Ejercicio 5\n",
    "\n",
    "Probablemente conozcais el sistema de **\"me gusta\"** de Facebook y otras páginas. \n",
    "La gente puede dar **\"me gusta\"** a las publicaciones del blog, a las imágenes o a otros elementos. \n",
    "\n",
    "Queremos crear el texto que debe mostrarse junto a dicho elemento.\n",
    "\n",
    "Cread una función que toma una lista que contiene los nombres de las personas a las que les gusta un artículo. \n",
    "Debe devolver el texto que se muestra en los ejemplos:"
   ]
  },
  {
   "cell_type": "markdown",
   "metadata": {},
   "source": [
    "Probad los siguientes ejemplos: \n",
    "\n",
    "1. []                              -->  `\"A nadie le gusta esto\"`\n",
    "2. [\"Paola\"]                       -->  `\"A Peter le gusta esto\"`\n",
    "3. [\"Jacoba\", \"Alex\"]               -->  `\"A Jacob y Alex les gusta esto\"`\n",
    "4. [\"Maria\", \"Juana\", \"Lola\"]         --> ` \"A Max, John y Mark les gusta esto\"`\n",
    "5. [\"Alex\", \"Jacoba\", \"Lola\", \"Carmen\"]--> ` \"A Alex, Jacob y 2 más les gusta esto\"`\n",
    "6. [\"Alex\", \"Jacoba\", \"Lola\", \"Carmen\", \"Mariana\"]-->  `\"A Alex, Jacoba y 3 más les gusta esto\"`\n",
    "\n",
    "**`Nota`**: Para 4 o más nombres, el número en \"y otros 2\" simplemente aumenta."
   ]
  },
  {
   "cell_type": "code",
   "execution_count": 84,
   "metadata": {},
   "outputs": [],
   "source": [
    "nombre = [\"Paola\",\"Jacoba\", \"Alex\",\"Maria\", \"Juana\", \"Lola\"]"
   ]
  },
  {
   "cell_type": "code",
   "execution_count": 85,
   "metadata": {},
   "outputs": [
    {
     "data": {
      "text/plain": [
       "4"
      ]
     },
     "execution_count": 85,
     "metadata": {},
     "output_type": "execute_result"
    }
   ],
   "source": [
    "resto = len(nombre) -2\n",
    "resto"
   ]
  },
  {
   "cell_type": "code",
   "execution_count": 86,
   "metadata": {},
   "outputs": [
    {
     "name": "stdout",
     "output_type": "stream",
     "text": [
      "A Paola y Jacoba, 4 les gusta esto\n"
     ]
    }
   ],
   "source": [
    "if len(nombre) > 3:\n",
    "    print(f\"A {nombre[0]} y {nombre[1]}, {resto} les gusta esto\")\n",
    "elif len(nombre) == 0:\n",
    "    print(\"A nadie le gusta esto\")\n",
    "elif len(nombre) == 1:\n",
    "    print(f\"A {nombre[0]} les gusta esto\")\n",
    "elif len(nombre) == 2:\n",
    "    print(f\"A {nombre[0]},{nombre[1]} les gusta esto\")\n",
    "elif len(nombre) == 3:\n",
    "    print(f\"A {nombre[0]},{nombre[1]},{nombre[2]}les gusta esto\")"
   ]
  }
 ],
 "metadata": {
  "kernelspec": {
   "display_name": "Python 3.9.7 ('base')",
   "language": "python",
   "name": "python3"
  },
  "language_info": {
   "codemirror_mode": {
    "name": "ipython",
    "version": 3
   },
   "file_extension": ".py",
   "mimetype": "text/x-python",
   "name": "python",
   "nbconvert_exporter": "python",
   "pygments_lexer": "ipython3",
   "version": "3.9.7"
  },
  "orig_nbformat": 4,
  "vscode": {
   "interpreter": {
    "hash": "651c3b7b3f466eb030aa737f279c846be4db9cba49a2f229278cab5e41121ed5"
   }
  }
 },
 "nbformat": 4,
 "nbformat_minor": 2
}
