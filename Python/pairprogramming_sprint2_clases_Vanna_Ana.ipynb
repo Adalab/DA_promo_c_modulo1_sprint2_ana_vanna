{
 "cells": [
  {
   "cell_type": "markdown",
   "metadata": {},
   "source": [
    "Happy coding 💻"
   ]
  },
  {
   "cell_type": "markdown",
   "metadata": {},
   "source": [
    "Imaginemos que nuestro jefe nos pide que creemos una clase para tener más ordenada la información sobre cada uno de los empleados de la empresa. Para ello:\n",
    "- Definid una clase que se llame Empleados\n",
    "- Definid los siguientes atributos que caracterizan a nuestros empleados:\n",
    "        nombre,          posición que ocupa en la empresa,\n",
    "        apellido,        año en que entró en la empresa,\n",
    "        edad,            número de días de vacaciones que tiene,\n",
    "        Las herramientas que usa cada uno de ellos, por ejemplo, Outlook, excel y word. \n",
    "        Deberá ser una lista."
   ]
  },
  {
   "cell_type": "markdown",
   "metadata": {},
   "source": [
    "-Cread una instancia para la clase creada\n",
    "-Definid los siguientes métodos:\n",
    "        descripción\n",
    "        calculo_vacaciones\n",
    "        cambiando_posicion"
   ]
  },
  {
   "cell_type": "code",
   "execution_count": 21,
   "metadata": {},
   "outputs": [],
   "source": [
    "class Empleados:\n",
    "    pass"
   ]
  },
  {
   "cell_type": "code",
   "execution_count": 24,
   "metadata": {},
   "outputs": [],
   "source": [
    "empleados_1=Empleados()"
   ]
  },
  {
   "cell_type": "code",
   "execution_count": 25,
   "metadata": {},
   "outputs": [],
   "source": [
    "class Empleados:\n",
    "    def __init__(self,nombre, apellido, edad, cargo, antiguedad, vacaciones, herramientas,descripcion):\n",
    "        self.nombre=nombre\n",
    "        self.apellido=apellido\n",
    "        self.edad=edad\n",
    "        self.cargo=cargo\n",
    "        self.antiguedad=antiguedad\n",
    "        self.vacaciones=vacaciones\n",
    "        self.herramientas=herramientas\n",
    "        self.descripcion=f'El/ella, es {self.nombre}, {self.cargo}, quien lleva con nostros en la empresa desde hace {self.antiguedad}año/s. Además este año le quedan {self.vacaciones} dias de vacaciones'\n",
    "    #def descripcion(self):\n",
    "        #return f'El/ella, es {self.nombre}, {self.cargo}, quien lleva con nostros en la empresa desde {self.antiguedad}. Además este año le quedan {self.vacaciones} dias de vacaciones'\n",
    "    \n",
    "\n",
    "    def dias(self):\n",
    "        dias_deseados=int(input('¿Cuántos días necesitas?'))\n",
    "\n",
    "        if self.vacaciones==0:\n",
    "            print('se te acabaron las vaciones')\n",
    "        elif dias_deseados>self.vacaciones:\n",
    "                print('No quedan tantos dias')\n",
    "        else:\n",
    "            print(f'Se confirman los dias y te quedan {self.vacaciones}')\n",
    "            self.vacaciones-=dias_deseados\n",
    "        return self.vacaciones \n",
    "        \n",
    "    def herramientas_usadas(self):\n",
    "        herramientas_usadas=[self.herramientas]\n",
    "        for i in herramientas_usadas: \n",
    "            if i=='Python':\n",
    "                print ('Bien hecho')\n",
    "            else:\n",
    "                if i=='Excel':\n",
    "                    print ('¿no te gustaria formarte en Python?') \n",
    "    \n",
    "\n"
   ]
  },
  {
   "cell_type": "code",
   "execution_count": 26,
   "metadata": {},
   "outputs": [
    {
     "data": {
      "text/plain": [
       "{'nombre': 'Ana',\n",
       " 'apellido': 'Gonzalez',\n",
       " 'edad': 25,\n",
       " 'cargo': 'supervisora',\n",
       " 'antiguedad': 1,\n",
       " 'vacaciones': 30,\n",
       " 'herramientas': 'Python',\n",
       " 'descripcion': 'El/ella, es Ana, supervisora, quien lleva con nostros en la empresa desde hace 1año/s. Además este año le quedan 30 dias de vacaciones'}"
      ]
     },
     "execution_count": 26,
     "metadata": {},
     "output_type": "execute_result"
    }
   ],
   "source": [
    "empleados_1=Empleados('Ana','Gonzalez',25,'supervisora',1,30,'Python','descripcion')\n",
    "empleados_1.__dict__"
   ]
  },
  {
   "cell_type": "markdown",
   "metadata": {},
   "source": [
    "TIP1\n",
    "Método descripcion:\n",
    "El return deberá ser un string en el que aparezca el nombre, apellidos, los años que lleva en la empresa y los días de vacaciones que le quedan. Este método deberá devolver algo como esto:"
   ]
  },
  {
   "cell_type": "markdown",
   "metadata": {
    "vscode": {
     "languageId": "plaintext"
    }
   },
   "source": [
    "#\"El/ella, es Lorena, Data Analyst, quien lleva con nostros en la empresa desde 2000. Además este año le quedan 15 \n",
    "dias de vacaciones\""
   ]
  },
  {
   "cell_type": "markdown",
   "metadata": {},
   "source": [
    "TIP2\n",
    "-Método calculo_vacaciones:\n",
    "    \\Deberá contener input que nos pregunte cuántos días te quieres ir de vacaciones.\n",
    "    \\Luego deberemos restar el número de días que se fue de vacaciones a el número total de vacaciones que tiene ese empleado.\n",
    "    \\Una condición que chequee si:\n",
    "        -Si el numero de vacaciones que tiene el empleado es igual a 0, devolved un mensaje que diga que se le acabaron las vacaciones\n",
    "        -Si el número de días que se quiere ir de vacaciones es mayor que el número de vacaciones que le quedan, devolved un mensaje que diga que no se puede ir tantos de vacaciones\n",
    "        -En caso de que no se cumplan ninguna de estas condiciones, que nos devuelva el número de vacaciones que le quedan al empleado."
   ]
  },
  {
   "cell_type": "markdown",
   "metadata": {},
   "source": [
    "TIP3\n",
    "-Método cambiando_posicion:\n",
    "    \\Iteraremos por la lista de herramientas que usa el empleado:\n",
    "    \\Si el empleado usa \"Python\" devolveremos un mensaje de bien hecho!\n",
    "    \\Si el empleado usa \"Excel\" le recomendaremos amigablemente que deje excel y empiece a usar Excel"
   ]
  }
 ],
 "metadata": {
  "kernelspec": {
   "display_name": "Python 3",
   "language": "python",
   "name": "python3"
  },
  "language_info": {
   "codemirror_mode": {
    "name": "ipython",
    "version": 3
   },
   "file_extension": ".py",
   "mimetype": "text/x-python",
   "name": "python",
   "nbconvert_exporter": "python",
   "pygments_lexer": "ipython3",
   "version": "3.9.7"
  },
  "orig_nbformat": 4,
  "vscode": {
   "interpreter": {
    "hash": "235f9155b0abc8f1580e75acf7c6712d847a3598ded282a80a21bb1bc6aba73f"
   }
  }
 },
 "nbformat": 4,
 "nbformat_minor": 2
}
