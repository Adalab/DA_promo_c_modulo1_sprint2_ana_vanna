{
 "cells": [
  {
   "cell_type": "markdown",
   "metadata": {},
   "source": [
    "En cada ejericio, os dejamos una serie de agumentos con los que tenéis que probar que vuestra función sea capaz de \n",
    "resolverlos. Es decir, vuestras funciones tienen que funcionar para cada uno de los argumentos que os hemos puesto.\n",
    "Manos a la obra! 🤓"
   ]
  },
  {
   "cell_type": "markdown",
   "metadata": {},
   "source": [
    "1 Cread una función que reciba 2 números enteros en forma de string como entrada, y dé como resultado la suma \n",
    "(también en forma de string)\n",
    "Condiciones:\n",
    "\n",
    "    1-Si los dos parámetros que recibe la función son strings vacíos la función nos debe devolver \"0\"\n",
    "    2-Si el primer parámetro es un string vacío, la función nos devuelve el valor del segundo parámetro y viceversa."
   ]
  },
  {
   "cell_type": "code",
   "execution_count": 9,
   "metadata": {},
   "outputs": [],
   "source": [
    "def sumar_string(num1,num2):\n",
    "    if num1=='' and num2=='':\n",
    "        x='0'\n",
    "        return str(x)\n",
    "    elif num1=='' and num2!='':\n",
    "        x=num2\n",
    "        return str(x)\n",
    "    elif num1!='' and num2=='':\n",
    "        x=num1\n",
    "        return str(x)\n",
    "    else:\n",
    "        x=int(num1)+int(num2)\n",
    "    return str(x)\n",
    "    \n",
    "\n",
    "        \n"
   ]
  },
  {
   "cell_type": "code",
   "execution_count": 10,
   "metadata": {},
   "outputs": [
    {
     "data": {
      "text/plain": [
       "'2'"
      ]
     },
     "execution_count": 10,
     "metadata": {},
     "output_type": "execute_result"
    }
   ],
   "source": [
    "s=sumar_string(2,'')\n",
    "s"
   ]
  },
  {
   "cell_type": "code",
   "execution_count": null,
   "metadata": {},
   "outputs": [],
   "source": [
    "Probad la función para las siguientes combinaciones de \"números\"\n",
    "\n",
    "\"4\",  \"5\" --> \"9\"\n",
    "\"34\", \"5\" --> \"39\"\n",
    "\"\", \"\" --> \"0\"\n",
    "\"2\", \"\" --> \"2\"\n",
    "\"-5\", \"3\" --> \"-2\""
   ]
  },
  {
   "cell_type": "markdown",
   "metadata": {},
   "source": [
    "2 El objetivo es comparar cada par de enteros de 2 listas, y devolver una nueva lista con el número mayor de la comapración..\n",
    "💡 Pista 💡 En Python existe el método zip."
   ]
  },
  {
   "cell_type": "code",
   "execution_count": 12,
   "metadata": {},
   "outputs": [],
   "source": [
    "#Probad la función para las siguientes listas: \n",
    "\n",
    "arr1 = [13, 64, 15, 17, 88]\n",
    "arr2 = [23, 14, 53, 17, 80]\n",
    "resultado = [23, 64, 53, 17, 88]"
   ]
  },
  {
   "cell_type": "code",
   "execution_count": 21,
   "metadata": {},
   "outputs": [],
   "source": [
    "zip1=zip(arr1,arr2)\n",
    "listazip1=list(zip1)\n",
    "listazip1.sort()"
   ]
  },
  {
   "cell_type": "code",
   "execution_count": 22,
   "metadata": {},
   "outputs": [
    {
     "data": {
      "text/plain": [
       "[(13, 23), (15, 53), (17, 17), (64, 14), (88, 80)]"
      ]
     },
     "execution_count": 22,
     "metadata": {},
     "output_type": "execute_result"
    }
   ],
   "source": [
    "listazip1"
   ]
  },
  {
   "cell_type": "code",
   "execution_count": 24,
   "metadata": {},
   "outputs": [],
   "source": [
    "zip2=zip(arr2,arr1)\n",
    "listazip2=list(zip2)\n",
    "listazip2.sort()"
   ]
  },
  {
   "cell_type": "code",
   "execution_count": 25,
   "metadata": {},
   "outputs": [
    {
     "data": {
      "text/plain": [
       "[((13, 23), (14, 64)),\n",
       " ((15, 53), (17, 17)),\n",
       " ((17, 17), (23, 13)),\n",
       " ((64, 14), (53, 15)),\n",
       " ((88, 80), (80, 88))]"
      ]
     },
     "execution_count": 25,
     "metadata": {},
     "output_type": "execute_result"
    }
   ],
   "source": [
    "zip3=zip(listazip1,listazip2)\n",
    "listazip3=list(zip3)\n",
    "listazip3"
   ]
  },
  {
   "cell_type": "markdown",
   "metadata": {},
   "source": [
    "3 El objetivo de este ejercicio es convertir un string en un nuevo string en el que cada carácter del nuevo string es \"(\" si ese carácter aparece sólo una vez en el string original, o \")\" si ese carácter aparece más de una vez en el string. Nuestro código no tiene que ser case sensitive, es decir, si hay una letra en mayúscula y en minúscula cuenta como dos apariciones."
   ]
  },
  {
   "cell_type": "code",
   "execution_count": null,
   "metadata": {},
   "outputs": [],
   "source": [
    "Probad la función para los siguientes strings \n",
    "\n",
    "\"din\"      =>  \"(((\"\n",
    "\"recede\"   =>  \"()()()\"\n",
    "\"Success\"  =>  \")())())\"\n",
    "\"(( @\"     =>  \"))((\" \n",
    "\"Ocvl@GamFLAFkixkS\" => \"((()(()()))))(()(\""
   ]
  },
  {
   "cell_type": "code",
   "execution_count": 41,
   "metadata": {},
   "outputs": [
    {
     "data": {
      "text/plain": [
       "[')', ')', '(']"
      ]
     },
     "execution_count": 41,
     "metadata": {},
     "output_type": "execute_result"
    }
   ],
   "source": [
    "lista5=nuevostring('((@')\n",
    "lista5"
   ]
  },
  {
   "cell_type": "code",
   "execution_count": 40,
   "metadata": {},
   "outputs": [],
   "source": [
    "list=[]\n",
    "def nuevostring(string):\n",
    "    for i in string.lower():\n",
    "        if string.count(i)>1:\n",
    "            list.append(\")\")\n",
    "            continue\n",
    "        else:\n",
    "            list.append(\"(\")\n",
    "            continue\n",
    "            \n",
    "    return list "
   ]
  },
  {
   "cell_type": "markdown",
   "metadata": {},
   "source": [
    "BONUS 4. A Pete le gusta hacer pasteles. Tiene algunas recetas e ingredientes. Desgraciadamente, no se le dan bien las matemáticas. ¿Puedes ayudarle a averiguar cuántas tartas puede hacer teniendo en cuenta sus recetas?\n",
    "Escribid una función,  que tome la receta (diccionario) y los ingredientes disponibles (también un diccionario) y devuelva el número máximo de pasteles que Pete puede hornear (entero). Para simplificar, no hay unidades para las cantidades (por ejemplo, 1 libra de harina o 200 g de azúcar son simplemente 1 o 200). Los ingredientes que no están presentes en los diccionarios, pueden ser considerados como 0."
   ]
  },
  {
   "cell_type": "code",
   "execution_count": 43,
   "metadata": {},
   "outputs": [],
   "source": [
    "\n",
    "#Probad con los siguientes diccionarios: \n",
    "\n",
    "receta={'flour': 500, 'sugar': 200, 'eggs': 1} \n",
    "ingredientes={'flour': 1200, 'sugar': 1200, 'eggs': 5, 'milk': 200}\n",
    "\n",
    "#RESULTADO: 2 \n",
    "\n",
    "receta2={'apples': 3, 'flour': 300, 'sugar': 150, 'milk': 100, 'oil': 100}\n",
    "ingredientes2= {'sugar': 500, 'flour': 2000, 'milk': 2000}\n",
    "\n",
    "#RESULTADO 0\n",
    "#**Pista**: Nuestra función recibirá dos parámetros. "
   ]
  },
  {
   "cell_type": "code",
   "execution_count": 44,
   "metadata": {},
   "outputs": [],
   "source": [
    "numero_tartas=[]\n",
    "def hacer_tarta (dic_receta,dic_ingredientes):\n",
    "    for i in dic_receta:\n",
    "        if i not in dic_ingredientes:\n",
    "            return 0\n",
    "        else:\n",
    "            numero_tartas.append(dic_ingredientes[i]//dic_receta[i])\n",
    "    return min(numero_tartas)\n"
   ]
  },
  {
   "cell_type": "code",
   "execution_count": 45,
   "metadata": {},
   "outputs": [
    {
     "data": {
      "text/plain": [
       "2"
      ]
     },
     "execution_count": 45,
     "metadata": {},
     "output_type": "execute_result"
    }
   ],
   "source": [
    "hacer_tarta(receta,ingredientes)"
   ]
  },
  {
   "cell_type": "code",
   "execution_count": 46,
   "metadata": {},
   "outputs": [
    {
     "data": {
      "text/plain": [
       "0"
      ]
     },
     "execution_count": 46,
     "metadata": {},
     "output_type": "execute_result"
    }
   ],
   "source": [
    "hacer_tarta(receta2,ingredientes2)"
   ]
  },
  {
   "cell_type": "markdown",
   "metadata": {},
   "source": [
    "BONUS 5. Escribid una función que va a ser una calculadora. La lista recibirá dos parámetros, una lista de números y un string con la operación que queremos hacer (puede ser \"*\", \"+\")"
   ]
  },
  {
   "cell_type": "code",
   "execution_count": 50,
   "metadata": {},
   "outputs": [],
   "source": [
    "\n",
    "#Probad con los siguientes inputs\n",
    "\n",
    "lista1 = [11, 6, 98, 1, 2] , \"*\"\n",
    "#RESULTADO 12936\n",
    "\n",
    "lista2 = [23,34, 56, 11, 90] , \"+\"\n",
    "#RESULTADO 214\n",
    "\n",
    "\n",
    "lista3 = [23, 4,109 , 94, 77] , \"-\"\n",
    "#RESULTADO 'Lo siento, necesito que me pases una operación valida.'\n"
   ]
  },
  {
   "cell_type": "markdown",
   "metadata": {},
   "source": [
    "Happy coding 💻"
   ]
  },
  {
   "cell_type": "code",
   "execution_count": 65,
   "metadata": {},
   "outputs": [],
   "source": [
    "resultado=[]\n",
    "def calculadora (list, operador):\n",
    "    for i in operador:\n",
    "        if operador=='*':\n",
    "            # contador=i*(i+=1)\n",
    "            #resultado.append(i*list[i+=1])\n",
    "             return resultado\n",
    "        elif operador=='+':\n",
    "            for i in list:\n",
    "                i*i\n",
    "                i+=i\n",
    "                resultado.append(i)\n",
    "            return resultado\n",
    "        elif operador=='-':\n",
    "            return 'Lo siento, necesito que me pases una operacion valida'\n"
   ]
  },
  {
   "cell_type": "code",
   "execution_count": 66,
   "metadata": {},
   "outputs": [
    {
     "data": {
      "text/plain": [
       "[[23, 34, 56, 11, 90, 23, 34, 56, 11, 90], '++']"
      ]
     },
     "execution_count": 66,
     "metadata": {},
     "output_type": "execute_result"
    }
   ],
   "source": [
    "calculadora(lista2,'+')"
   ]
  }
 ],
 "metadata": {
  "kernelspec": {
   "display_name": "base",
   "language": "python",
   "name": "python3"
  },
  "language_info": {
   "codemirror_mode": {
    "name": "ipython",
    "version": 3
   },
   "file_extension": ".py",
   "mimetype": "text/x-python",
   "name": "python",
   "nbconvert_exporter": "python",
   "pygments_lexer": "ipython3",
   "version": "3.9.7"
  },
  "orig_nbformat": 4,
  "vscode": {
   "interpreter": {
    "hash": "89cd1e468ef4a18e11c433937eda02158e610f900245a725daa30a2064ec51c1"
   }
  }
 },
 "nbformat": 4,
 "nbformat_minor": 2
}
