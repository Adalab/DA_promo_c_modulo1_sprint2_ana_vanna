{
 "cells": [
  {
   "cell_type": "code",
   "execution_count": 10,
   "metadata": {},
   "outputs": [],
   "source": [
    "import re\n",
    "import os\n"
   ]
  },
  {
   "cell_type": "code",
   "execution_count": 11,
   "metadata": {},
   "outputs": [],
   "source": [
    "file_email = \"email.txt\"\n"
   ]
  },
  {
   "cell_type": "code",
   "execution_count": 12,
   "metadata": {},
   "outputs": [],
   "source": [
    "f = open(file_email)\n",
    "file_email_leer = f.read()\n",
    "f.close()\n",
    "    "
   ]
  },
  {
   "cell_type": "code",
   "execution_count": null,
   "metadata": {},
   "outputs": [],
   "source": [
    "file_email_leer"
   ]
  },
  {
   "cell_type": "markdown",
   "metadata": {},
   "source": [
    "Extraer el email de la persona que envió el email (os deberían salir 2).\n",
    "💡 Pista 💡 Tendremos que hacer dos busquedas:\n",
    "- Una para extraer toda la información del remitente. \n",
    "- Otra para extraer el email únicamente."
   ]
  },
  {
   "cell_type": "code",
   "execution_count": 14,
   "metadata": {},
   "outputs": [
    {
     "data": {
      "text/plain": [
       "['From: \"Mr. Ben Suleman\" <bensul2004nng@spinfinder.com>',\n",
       " 'From: \"MR. JAMES NGOLA.\" <james_ngola2002@maktoob.com>']"
      ]
     },
     "execution_count": 14,
     "metadata": {},
     "output_type": "execute_result"
    }
   ],
   "source": [
    "info_remitente = re.findall('From:.*',file_email_leer)\n",
    "info_remitente"
   ]
  },
  {
   "cell_type": "code",
   "execution_count": 15,
   "metadata": {},
   "outputs": [],
   "source": [
    "#type(info_remitente) es list\n",
    "info_remitente1 = str(info_remitente)"
   ]
  },
  {
   "cell_type": "code",
   "execution_count": 16,
   "metadata": {},
   "outputs": [
    {
     "data": {
      "text/plain": [
       "['bensul2004nng@spinfinder.com', 'james_ngola2002@maktoob.com']"
      ]
     },
     "execution_count": 16,
     "metadata": {},
     "output_type": "execute_result"
    }
   ],
   "source": [
    "email = re.findall(\"[\\w*]+@[a-z]*\\.com\",info_remitente1)\n",
    "email"
   ]
  },
  {
   "cell_type": "markdown",
   "metadata": {},
   "source": [
    "Extraer el nombre de la persona que envió el email (os deberían salir 2).\n",
    "💡 Pista 💡 Tendremos que hacer dos busquedas:\n",
    "- Podemos usar el resultado de la primera búsqueda del ejercicio anterior para sacar el nombre.\n",
    "- Otra para extraer el nombre únicamente."
   ]
  },
  {
   "cell_type": "code",
   "execution_count": 17,
   "metadata": {},
   "outputs": [],
   "source": [
    "import re"
   ]
  },
  {
   "cell_type": "code",
   "execution_count": 18,
   "metadata": {},
   "outputs": [
    {
     "data": {
      "text/plain": [
       "[]"
      ]
     },
     "execution_count": 18,
     "metadata": {},
     "output_type": "execute_result"
    }
   ],
   "source": [
    "info_remitente2 = []\n",
    "\n",
    "for i in info_remitente1: \n",
    "    desde = re.findall(\".From..M...\", i) \n",
    "    if len(desde) != 0:\n",
    "        info_remitente1.remove(i)\n",
    "\n",
    "\n",
    "info_remitente2"
   ]
  },
  {
   "cell_type": "code",
   "execution_count": 21,
   "metadata": {},
   "outputs": [
    {
     "name": "stdout",
     "output_type": "stream",
     "text": [
      "['From: \"Mr.', 'From: \"MR.']\n"
     ]
    }
   ],
   "source": [
    "prueba = re.findall(\"From:..?...\", info_remitente1)\n",
    "print(prueba)"
   ]
  },
  {
   "cell_type": "markdown",
   "metadata": {},
   "source": [
    "El día en el que se mandó el email (os deberían salir 2).\n",
    "💡 Pista 💡 De la misma forma que antes buscamos por From: primero, ahora lo tendremos que hacer con Date: .*"
   ]
  },
  {
   "cell_type": "code",
   "execution_count": 47,
   "metadata": {},
   "outputs": [],
   "source": [
    "info_date = re.findall('Date:.*',file_email_leer)\n",
    "info_date2 =str(info_date)"
   ]
  },
  {
   "cell_type": "code",
   "execution_count": 50,
   "metadata": {},
   "outputs": [
    {
     "data": {
      "text/plain": [
       "['31 Oct 2002', '31 Oct 2002']"
      ]
     },
     "execution_count": 50,
     "metadata": {},
     "output_type": "execute_result"
    }
   ],
   "source": [
    "date = re.findall(\"\\d\\d.\\w\\w\\w.\\d\\d\\d\\d\",info_date2)\n",
    "date"
   ]
  }
 ],
 "metadata": {
  "kernelspec": {
   "display_name": "Python 3.9.7 ('base')",
   "language": "python",
   "name": "python3"
  },
  "language_info": {
   "codemirror_mode": {
    "name": "ipython",
    "version": 3
   },
   "file_extension": ".py",
   "mimetype": "text/x-python",
   "name": "python",
   "nbconvert_exporter": "python",
   "pygments_lexer": "ipython3",
   "version": "3.9.7"
  },
  "orig_nbformat": 4,
  "vscode": {
   "interpreter": {
    "hash": "651c3b7b3f466eb030aa737f279c846be4db9cba49a2f229278cab5e41121ed5"
   }
  }
 },
 "nbformat": 4,
 "nbformat_minor": 2
}
