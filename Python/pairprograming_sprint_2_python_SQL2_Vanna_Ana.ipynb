{
 "cells": [
  {
   "cell_type": "markdown",
   "metadata": {},
   "source": [
    "Happy coding 😀\n",
    "\n",
    "Durante la clase de pair programming de ayer nos creamos nuestra primerita BBDD desde cero en Workbench. En el ejercicio de hoy volveremos a crear esa misma BBDD, pero esta vez desde Python.\n",
    "📌 NOTA Cambiad el nombre de la BBDD a mi_primerita_BBDD_Python\n",
    "📌 NOTA Cuando creeis las distintas tablas de vuestra BBDD repetereis la mismas lineas de código una y otra vez. Para evitar esto, crearos una función que nos sirva para crear tablas independientemente del contenido de la tabla. La función recibirá como parámetros:\n",
    "                    -Contraseña de la conexión al servidor.\n",
    "                    -Query para crear la tabla.\n",
    "A modo de recap de lo que contenía la BBDD:"
   ]
  },
  {
   "cell_type": "code",
   "execution_count": 7,
   "metadata": {},
   "outputs": [],
   "source": [
    "import mysql.connector"
   ]
  },
  {
   "cell_type": "code",
   "execution_count": 2,
   "metadata": {},
   "outputs": [
    {
     "name": "stdout",
     "output_type": "stream",
     "text": [
      "MySQLCursor: CREATE DATABASE mi_primerita_BBDD_Python\n"
     ]
    }
   ],
   "source": [
    "#Creamos una BBDD nueva, cambiar el nombre de alguna, no nos lo permite\n",
    "cnx = mysql.connector.connect(user='root', password='AlumnaAdalab',\n",
    "                              host='127.0.0.1')\n",
    "\n",
    "\n",
    "cursor = cnx.cursor()\n",
    "try:\n",
    "    cursor.execute(\"CREATE DATABASE mi_primerita_BBDD_Python\")\n",
    "    print(cursor)\n",
    "except mysql.connector.Error as err:\n",
    "    print(err)\n",
    "    print(\"Error Code:\", err.errno)\n",
    "    print(\"SQLSTATE\", err.sqlstate)\n",
    "    print(\"Message\", err.msg)\n",
    "\n",
    "cursor.close()\n",
    "cnx.close()\n"
   ]
  },
  {
   "cell_type": "markdown",
   "metadata": {},
   "source": []
  },
  {
   "cell_type": "code",
   "execution_count": 4,
   "metadata": {},
   "outputs": [
    {
     "name": "stdout",
     "output_type": "stream",
     "text": [
      "MySQLCursor: CREATE TABLE IF NOT EXISTS Zapatillas(\n",
      " ..\n"
     ]
    }
   ],
   "source": [
    "cnx = mysql.connector.connect(user='root', password='AlumnaAdalab',\n",
    "                              host='127.0.0.1', database='mi_primerita_BBDD_Python')\n",
    "\n",
    "\n",
    "cursor = cnx.cursor()\n",
    "try:\n",
    "    cursor.execute (\"\"\"CREATE TABLE IF NOT EXISTS Zapatillas(\n",
    "    idZapatillas int NOT NULL AUTO_INCREMENT PRIMARY KEY,\n",
    "    Modelo varchar(45) NOT NULL,\n",
    "    Color varchar(45) NOT NULL,\n",
    "    Talla int NOT NULL)\"\"\")\n",
    "    print(cursor)\n",
    "except mysql.connector.Error as err:\n",
    "    print(err)\n",
    "    print(\"Error Code:\", err.errno)\n",
    "    print(\"SQLSTATE\", err.sqlstate)\n",
    "    print(\"Message\", err.msg)\n",
    "\n",
    "cursor.close()\n",
    "cnx.close()\n",
    "\n",
    "#Hemos tenido que adjudicar una clave primaria, no nos dejaba crear la tabla en caso contrario"
   ]
  },
  {
   "cell_type": "code",
   "execution_count": 6,
   "metadata": {},
   "outputs": [
    {
     "name": "stdout",
     "output_type": "stream",
     "text": [
      "MySQLCursor: CREATE TABLE Clientes\n",
      "    (idEmpleado in..\n"
     ]
    }
   ],
   "source": [
    "cnx = mysql.connector.connect(user='root', password='AlumnaAdalab',\n",
    "                              host='127.0.0.1', database='mi_primerita_BBDD_Python')\n",
    "\n",
    "\n",
    "cursor = cnx.cursor()\n",
    "try:\n",
    "    cursor.execute (\"\"\"CREATE TABLE IF NOT EXISTS Clientes\n",
    "    (idEmpleado int NOT NULL AUTO_INCREMENT PRIMARY KEY,\n",
    "    Nombre varchar(45) NOT NULL,\n",
    "    Numero_telefono int(9) NOT NULL,\n",
    "    Email varchar(45) NOT NULL,\n",
    "    Direccion varchar(45) NOT NULL,\n",
    "    Ciudad varchar(45) NOT NULL,\n",
    "    Provincia varchar(45) NOT NULL,\n",
    "    Pais varchar(45) NOT NULL,\n",
    "    Codigo_postal int(9) NOT NULL)\"\"\")\n",
    "    \n",
    "    print(cursor)\n",
    "except mysql.connector.Error as err:\n",
    "    print(err)\n",
    "    print(\"Error Code:\", err.errno)\n",
    "    print(\"SQLSTATE\", err.sqlstate)\n",
    "    print(\"Message\", err.msg)\n",
    "cursor.close()\n",
    "cnx.close()\n"
   ]
  },
  {
   "cell_type": "code",
   "execution_count": 8,
   "metadata": {},
   "outputs": [
    {
     "name": "stdout",
     "output_type": "stream",
     "text": [
      "MySQLCursor: CREATE TABLE IF NOT EXISTS Empleados\n",
      "   ..\n"
     ]
    }
   ],
   "source": [
    "cnx = mysql.connector.connect(user='root', password='AlumnaAdalab',\n",
    "                              host='127.0.0.1', database='mi_primerita_BBDD_Python')\n",
    "\n",
    "\n",
    "cursor = cnx.cursor()\n",
    "try:\n",
    "    cursor.execute (\"\"\"CREATE TABLE IF NOT EXISTS Empleados\n",
    "    (idEmpleado int NOT NULL AUTO_INCREMENT PRIMARY KEY,\n",
    "    Nombre varchar(45) NOT NULL,\n",
    "    Tienda varchar(45) NOT NULL,\n",
    "    salario float,\n",
    "    fecha_incorporacion datetime NOT NULL)\"\"\")\n",
    "    \n",
    "    print(cursor)\n",
    "except mysql.connector.Error as err:\n",
    "    print(err)\n",
    "    print(\"Error Code:\", err.errno)\n",
    "    print(\"SQLSTATE\", err.sqlstate)\n",
    "    print(\"Message\", err.msg)\n",
    "cursor.close()\n",
    "cnx.close()\n"
   ]
  },
  {
   "cell_type": "code",
   "execution_count": 6,
   "metadata": {},
   "outputs": [
    {
     "name": "stdout",
     "output_type": "stream",
     "text": [
      "MySQLCursor: CREATE TABLE Facturas(\n",
      "    idFactura int..\n"
     ]
    }
   ],
   "source": [
    "cnx = mysql.connector.connect(user='root', password='AlumnaAdalab',\n",
    "                              host='127.0.0.1', database='mi_primerita_BBDD_Python')\n",
    "\n",
    "\n",
    "cursor = cnx.cursor()\n",
    "try:\n",
    "    cursor.execute (\"\"\"CREATE TABLE Facturas(\n",
    "    idFactura int NOT NULL AUTO_INCREMENT PRIMARY KEY,\n",
    "    idEmpleado int NOT NULL,\n",
    "    idCliente int NOT NULL,\n",
    "    idZapatillas int NOT NULL,\n",
    "    Fecha datetime NOT NULL,\n",
    "    Total float NOT NULL,\n",
    "    CONSTRAINT idEmpleado FOREIGN KEY (idEmpleado) REFERENCES Empleados (idEmpleado) ON DELETE cascade,\n",
    "    CONSTRAINT idCliente FOREIGN KEY (idCliente) REFERENCES Clientes (idEmpleado) ON DELETE cascade,\n",
    "    CONSTRAINT idZapatillas FOREIGN KEY (idZapatillas) REFERENCES Zapatillas (idZapatillas) ON DELETE cascade\n",
    "    )\"\"\")\n",
    "    \n",
    "    print(cursor)\n",
    "except mysql.connector.Error as err:\n",
    "    print(err)\n",
    "    print(\"Error Code:\", err.errno)\n",
    "    print(\"SQLSTATE\", err.sqlstate)\n",
    "    print(\"Message\", err.msg)\n",
    "cursor.close()\n",
    "cnx.close()\n",
    "\n",
    "#📌 NOTA En esta última tabla tendremos que incluir todos los CONSTRAINTnecesarios para establecer los relaciones entre las tablas, donde #tendremos que especificar:\n",
    "#Foreign Key\n",
    "#References"
   ]
  },
  {
   "cell_type": "code",
   "execution_count": 8,
   "metadata": {},
   "outputs": [
    {
     "name": "stdout",
     "output_type": "stream",
     "text": [
      "MySQLCursor: ALTER TABLE Clientes RENAME COLUMN idEmp..\n"
     ]
    }
   ],
   "source": [
    "cnx = mysql.connector.connect(user='root', password='AlumnaAdalab',\n",
    "                              host='127.0.0.1', database='mi_primerita_BBDD_Python')\n",
    "\n",
    "\n",
    "cursor = cnx.cursor()\n",
    "try:\n",
    "    cursor.execute (\"\"\"ALTER TABLE Clientes RENAME COLUMN idEmpleado TO idCliente\"\"\")\n",
    "\n",
    "    \n",
    "    print(cursor)\n",
    "except mysql.connector.Error as err:\n",
    "    print(err)\n",
    "    print(\"Error Code:\", err.errno)\n",
    "    print(\"SQLSTATE\", err.sqlstate)\n",
    "    print(\"Message\", err.msg)\n",
    "cursor.close()\n",
    "cnx.close()\n",
    "\n",
    "#Hemos cambiado el nombre para que aparezca igual en la tabla en la que se referencia como FK, en el enunciado de la creación, \n",
    "# se llamaba diferente"
   ]
  }
 ],
 "metadata": {
  "kernelspec": {
   "display_name": "Python 3.10.8 64-bit (microsoft store)",
   "language": "python",
   "name": "python3"
  },
  "language_info": {
   "codemirror_mode": {
    "name": "ipython",
    "version": 3
   },
   "file_extension": ".py",
   "mimetype": "text/x-python",
   "name": "python",
   "nbconvert_exporter": "python",
   "pygments_lexer": "ipython3",
   "version": "3.10.8"
  },
  "orig_nbformat": 4,
  "vscode": {
   "interpreter": {
    "hash": "db5cedc7e114859ad608ddd0e9acad792dd59d9153581ae5b253a51e1afe4cda"
   }
  }
 },
 "nbformat": 4,
 "nbformat_minor": 2
}
